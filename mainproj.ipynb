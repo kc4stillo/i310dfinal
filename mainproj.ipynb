{
  "cells": [
    {
      "cell_type": "markdown",
      "metadata": {
        "id": "0k5atE-ryQO8"
      },
      "source": [
        "#Predicting Marital Status Based on Census Data\n",
        "### i310D - goodTeam - Julia F., Kyle C., Sydney F., Tyler H."
      ]
    },
    {
      "cell_type": "markdown",
      "metadata": {
        "id": "yR8BO5dPy6O9"
      },
      "source": [
        "##Import packages and read in file:\n",
        "\n",
        "\n",
        "*   *duckdb* is a package that allows SQL queries to be executed in the notebook\n",
        "\n"
      ]
    },
    {
      "cell_type": "code",
      "execution_count": 12,
      "metadata": {
        "id": "lvrNPh9OblkV"
      },
      "outputs": [
        {
          "data": {
            "text/html": [
              "<div>\n",
              "<style scoped>\n",
              "    .dataframe tbody tr th:only-of-type {\n",
              "        vertical-align: middle;\n",
              "    }\n",
              "\n",
              "    .dataframe tbody tr th {\n",
              "        vertical-align: top;\n",
              "    }\n",
              "\n",
              "    .dataframe thead th {\n",
              "        text-align: right;\n",
              "    }\n",
              "</style>\n",
              "<table border=\"1\" class=\"dataframe\">\n",
              "  <thead>\n",
              "    <tr style=\"text-align: right;\">\n",
              "      <th></th>\n",
              "      <th>0</th>\n",
              "      <th>1</th>\n",
              "      <th>2</th>\n",
              "      <th>3</th>\n",
              "      <th>4</th>\n",
              "      <th>5</th>\n",
              "      <th>6</th>\n",
              "      <th>7</th>\n",
              "      <th>8</th>\n",
              "      <th>9</th>\n",
              "      <th>10</th>\n",
              "      <th>11</th>\n",
              "      <th>12</th>\n",
              "      <th>13</th>\n",
              "      <th>14</th>\n",
              "      <th>15</th>\n",
              "      <th>16</th>\n",
              "      <th>17</th>\n",
              "      <th>18</th>\n",
              "    </tr>\n",
              "  </thead>\n",
              "  <tbody>\n",
              "    <tr>\n",
              "      <th>0</th>\n",
              "      <td>PWGTP</td>\n",
              "      <td>WAGP</td>\n",
              "      <td>VALP</td>\n",
              "      <td>WKHP</td>\n",
              "      <td>RNTP</td>\n",
              "      <td>AGEP</td>\n",
              "      <td>DIS</td>\n",
              "      <td>SEX</td>\n",
              "      <td>MAR</td>\n",
              "      <td>ENG</td>\n",
              "      <td>NATIVITY</td>\n",
              "      <td>VEH</td>\n",
              "      <td>MIL</td>\n",
              "      <td>SCHL</td>\n",
              "      <td>MARHT</td>\n",
              "      <td>COW</td>\n",
              "      <td>JWTRNS</td>\n",
              "      <td>PUMA</td>\n",
              "      <td>ST</td>\n",
              "    </tr>\n",
              "    <tr>\n",
              "      <th>1</th>\n",
              "      <td>13</td>\n",
              "      <td>0</td>\n",
              "      <td>0</td>\n",
              "      <td>0</td>\n",
              "      <td>0</td>\n",
              "      <td>18</td>\n",
              "      <td>2</td>\n",
              "      <td>1</td>\n",
              "      <td>5</td>\n",
              "      <td>4</td>\n",
              "      <td>2</td>\n",
              "      <td>-1</td>\n",
              "      <td>4</td>\n",
              "      <td>16</td>\n",
              "      <td>0</td>\n",
              "      <td>0</td>\n",
              "      <td>0</td>\n",
              "      <td>05307</td>\n",
              "      <td>48</td>\n",
              "    </tr>\n",
              "    <tr>\n",
              "      <th>2</th>\n",
              "      <td>25</td>\n",
              "      <td>6800</td>\n",
              "      <td>0</td>\n",
              "      <td>8</td>\n",
              "      <td>0</td>\n",
              "      <td>21</td>\n",
              "      <td>2</td>\n",
              "      <td>1</td>\n",
              "      <td>5</td>\n",
              "      <td>0</td>\n",
              "      <td>1</td>\n",
              "      <td>-1</td>\n",
              "      <td>4</td>\n",
              "      <td>19</td>\n",
              "      <td>0</td>\n",
              "      <td>1</td>\n",
              "      <td>0</td>\n",
              "      <td>05306</td>\n",
              "      <td>48</td>\n",
              "    </tr>\n",
              "    <tr>\n",
              "      <th>3</th>\n",
              "      <td>55</td>\n",
              "      <td>0</td>\n",
              "      <td>0</td>\n",
              "      <td>0</td>\n",
              "      <td>0</td>\n",
              "      <td>18</td>\n",
              "      <td>2</td>\n",
              "      <td>2</td>\n",
              "      <td>5</td>\n",
              "      <td>0</td>\n",
              "      <td>1</td>\n",
              "      <td>-1</td>\n",
              "      <td>4</td>\n",
              "      <td>16</td>\n",
              "      <td>0</td>\n",
              "      <td>0</td>\n",
              "      <td>0</td>\n",
              "      <td>05306</td>\n",
              "      <td>48</td>\n",
              "    </tr>\n",
              "    <tr>\n",
              "      <th>4</th>\n",
              "      <td>47</td>\n",
              "      <td>12000</td>\n",
              "      <td>0</td>\n",
              "      <td>15</td>\n",
              "      <td>0</td>\n",
              "      <td>22</td>\n",
              "      <td>2</td>\n",
              "      <td>2</td>\n",
              "      <td>5</td>\n",
              "      <td>0</td>\n",
              "      <td>1</td>\n",
              "      <td>-1</td>\n",
              "      <td>4</td>\n",
              "      <td>19</td>\n",
              "      <td>0</td>\n",
              "      <td>3</td>\n",
              "      <td>1</td>\n",
              "      <td>05306</td>\n",
              "      <td>48</td>\n",
              "    </tr>\n",
              "  </tbody>\n",
              "</table>\n",
              "</div>"
            ],
            "text/plain": [
              "      0      1     2     3     4     5    6    7    8    9         10   11  \\\n",
              "0  PWGTP   WAGP  VALP  WKHP  RNTP  AGEP  DIS  SEX  MAR  ENG  NATIVITY  VEH   \n",
              "1     13      0     0     0     0    18    2    1    5    4         2   -1   \n",
              "2     25   6800     0     8     0    21    2    1    5    0         1   -1   \n",
              "3     55      0     0     0     0    18    2    2    5    0         1   -1   \n",
              "4     47  12000     0    15     0    22    2    2    5    0         1   -1   \n",
              "\n",
              "    12    13     14   15      16     17  18  \n",
              "0  MIL  SCHL  MARHT  COW  JWTRNS   PUMA  ST  \n",
              "1    4    16      0    0       0  05307  48  \n",
              "2    4    19      0    1       0  05306  48  \n",
              "3    4    16      0    0       0  05306  48  \n",
              "4    4    19      0    3       1  05306  48  "
            ]
          },
          "execution_count": 12,
          "metadata": {},
          "output_type": "execute_result"
        }
      ],
      "source": [
        "import pandas as pd\n",
        "import duckdb\n",
        "\n",
        "df = pd.read_json('data.json')\n",
        "df.head()"
      ]
    },
    {
      "cell_type": "markdown",
      "metadata": {
        "id": "jCFD0EFiz9iD"
      },
      "source": [
        "##Clean data before implementing classification models"
      ]
    },
    {
      "cell_type": "code",
      "execution_count": 13,
      "metadata": {
        "colab": {
          "base_uri": "https://localhost:8080/",
          "height": 226
        },
        "id": "MTuiVyTS8d6Q",
        "outputId": "711ded65-ffcc-487b-e63f-3fef4df726e8"
      },
      "outputs": [
        {
          "data": {
            "text/html": [
              "<div>\n",
              "<style scoped>\n",
              "    .dataframe tbody tr th:only-of-type {\n",
              "        vertical-align: middle;\n",
              "    }\n",
              "\n",
              "    .dataframe tbody tr th {\n",
              "        vertical-align: top;\n",
              "    }\n",
              "\n",
              "    .dataframe thead th {\n",
              "        text-align: right;\n",
              "    }\n",
              "</style>\n",
              "<table border=\"1\" class=\"dataframe\">\n",
              "  <thead>\n",
              "    <tr style=\"text-align: right;\">\n",
              "      <th></th>\n",
              "      <th>person_weight</th>\n",
              "      <th>salary</th>\n",
              "      <th>property_value</th>\n",
              "      <th>unusual_hours</th>\n",
              "      <th>monthly_rent</th>\n",
              "      <th>age</th>\n",
              "      <th>disability_recode</th>\n",
              "      <th>sex</th>\n",
              "      <th>marital_status</th>\n",
              "      <th>english_abilities</th>\n",
              "      <th>nativity</th>\n",
              "      <th>vehicles</th>\n",
              "      <th>military_service</th>\n",
              "      <th>educational_attainment</th>\n",
              "      <th>times_married</th>\n",
              "      <th>worker_class</th>\n",
              "      <th>work_transportation</th>\n",
              "      <th>puma</th>\n",
              "      <th>state</th>\n",
              "    </tr>\n",
              "  </thead>\n",
              "  <tbody>\n",
              "    <tr>\n",
              "      <th>0</th>\n",
              "      <td>PWGTP</td>\n",
              "      <td>WAGP</td>\n",
              "      <td>VALP</td>\n",
              "      <td>WKHP</td>\n",
              "      <td>RNTP</td>\n",
              "      <td>AGEP</td>\n",
              "      <td>DIS</td>\n",
              "      <td>SEX</td>\n",
              "      <td>MAR</td>\n",
              "      <td>ENG</td>\n",
              "      <td>NATIVITY</td>\n",
              "      <td>VEH</td>\n",
              "      <td>MIL</td>\n",
              "      <td>SCHL</td>\n",
              "      <td>MARHT</td>\n",
              "      <td>COW</td>\n",
              "      <td>JWTRNS</td>\n",
              "      <td>PUMA</td>\n",
              "      <td>ST</td>\n",
              "    </tr>\n",
              "    <tr>\n",
              "      <th>1</th>\n",
              "      <td>13</td>\n",
              "      <td>0</td>\n",
              "      <td>0</td>\n",
              "      <td>0</td>\n",
              "      <td>0</td>\n",
              "      <td>18</td>\n",
              "      <td>2</td>\n",
              "      <td>1</td>\n",
              "      <td>5</td>\n",
              "      <td>4</td>\n",
              "      <td>2</td>\n",
              "      <td>-1</td>\n",
              "      <td>4</td>\n",
              "      <td>16</td>\n",
              "      <td>0</td>\n",
              "      <td>0</td>\n",
              "      <td>0</td>\n",
              "      <td>05307</td>\n",
              "      <td>48</td>\n",
              "    </tr>\n",
              "    <tr>\n",
              "      <th>2</th>\n",
              "      <td>25</td>\n",
              "      <td>6800</td>\n",
              "      <td>0</td>\n",
              "      <td>8</td>\n",
              "      <td>0</td>\n",
              "      <td>21</td>\n",
              "      <td>2</td>\n",
              "      <td>1</td>\n",
              "      <td>5</td>\n",
              "      <td>0</td>\n",
              "      <td>1</td>\n",
              "      <td>-1</td>\n",
              "      <td>4</td>\n",
              "      <td>19</td>\n",
              "      <td>0</td>\n",
              "      <td>1</td>\n",
              "      <td>0</td>\n",
              "      <td>05306</td>\n",
              "      <td>48</td>\n",
              "    </tr>\n",
              "    <tr>\n",
              "      <th>3</th>\n",
              "      <td>55</td>\n",
              "      <td>0</td>\n",
              "      <td>0</td>\n",
              "      <td>0</td>\n",
              "      <td>0</td>\n",
              "      <td>18</td>\n",
              "      <td>2</td>\n",
              "      <td>2</td>\n",
              "      <td>5</td>\n",
              "      <td>0</td>\n",
              "      <td>1</td>\n",
              "      <td>-1</td>\n",
              "      <td>4</td>\n",
              "      <td>16</td>\n",
              "      <td>0</td>\n",
              "      <td>0</td>\n",
              "      <td>0</td>\n",
              "      <td>05306</td>\n",
              "      <td>48</td>\n",
              "    </tr>\n",
              "    <tr>\n",
              "      <th>4</th>\n",
              "      <td>47</td>\n",
              "      <td>12000</td>\n",
              "      <td>0</td>\n",
              "      <td>15</td>\n",
              "      <td>0</td>\n",
              "      <td>22</td>\n",
              "      <td>2</td>\n",
              "      <td>2</td>\n",
              "      <td>5</td>\n",
              "      <td>0</td>\n",
              "      <td>1</td>\n",
              "      <td>-1</td>\n",
              "      <td>4</td>\n",
              "      <td>19</td>\n",
              "      <td>0</td>\n",
              "      <td>3</td>\n",
              "      <td>1</td>\n",
              "      <td>05306</td>\n",
              "      <td>48</td>\n",
              "    </tr>\n",
              "  </tbody>\n",
              "</table>\n",
              "</div>"
            ],
            "text/plain": [
              "  person_weight salary property_value unusual_hours monthly_rent   age  \\\n",
              "0         PWGTP   WAGP           VALP          WKHP         RNTP  AGEP   \n",
              "1            13      0              0             0            0    18   \n",
              "2            25   6800              0             8            0    21   \n",
              "3            55      0              0             0            0    18   \n",
              "4            47  12000              0            15            0    22   \n",
              "\n",
              "  disability_recode  sex marital_status english_abilities  nativity vehicles  \\\n",
              "0               DIS  SEX            MAR               ENG  NATIVITY      VEH   \n",
              "1                 2    1              5                 4         2       -1   \n",
              "2                 2    1              5                 0         1       -1   \n",
              "3                 2    2              5                 0         1       -1   \n",
              "4                 2    2              5                 0         1       -1   \n",
              "\n",
              "  military_service educational_attainment times_married worker_class  \\\n",
              "0              MIL                   SCHL         MARHT          COW   \n",
              "1                4                     16             0            0   \n",
              "2                4                     19             0            1   \n",
              "3                4                     16             0            0   \n",
              "4                4                     19             0            3   \n",
              "\n",
              "  work_transportation   puma state  \n",
              "0              JWTRNS   PUMA    ST  \n",
              "1                   0  05307    48  \n",
              "2                   0  05306    48  \n",
              "3                   0  05306    48  \n",
              "4                   1  05306    48  "
            ]
          },
          "execution_count": 13,
          "metadata": {},
          "output_type": "execute_result"
        }
      ],
      "source": [
        "# renaming columns\n",
        "df.columns = [\n",
        "    'person_weight', 'salary',   'property_value', 'unusual_hours', 'monthly_rent',\n",
        "    'age', 'disability_recode', 'sex', 'marital_status', 'english_abilities',\n",
        "    'nativity', 'vehicles', 'military_service', 'educational_attainment',\n",
        "    'times_married', 'worker_class', 'work_transportation', 'puma', 'state'\n",
        "]\n",
        "df.head()"
      ]
    },
    {
      "cell_type": "code",
      "execution_count": 14,
      "metadata": {
        "id": "CDdkrg_h8S4z"
      },
      "outputs": [],
      "source": [
        "# remove first row\n",
        "df = df.iloc[1:]"
      ]
    },
    {
      "cell_type": "code",
      "execution_count": 15,
      "metadata": {
        "colab": {
          "base_uri": "https://localhost:8080/"
        },
        "id": "SpVXQFzVI1WD",
        "outputId": "5b4b4e6e-b276-4876-9314-0c98f6326a3e"
      },
      "outputs": [
        {
          "data": {
            "text/plain": [
              "person_weight             object\n",
              "salary                    object\n",
              "property_value            object\n",
              "unusual_hours             object\n",
              "monthly_rent              object\n",
              "age                       object\n",
              "disability_recode         object\n",
              "sex                       object\n",
              "marital_status            object\n",
              "english_abilities         object\n",
              "nativity                  object\n",
              "vehicles                  object\n",
              "military_service          object\n",
              "educational_attainment    object\n",
              "times_married             object\n",
              "worker_class              object\n",
              "work_transportation       object\n",
              "puma                      object\n",
              "state                     object\n",
              "dtype: object"
            ]
          },
          "execution_count": 15,
          "metadata": {},
          "output_type": "execute_result"
        }
      ],
      "source": [
        "# analyze data types\n",
        "df.dtypes"
      ]
    },
    {
      "cell_type": "code",
      "execution_count": 16,
      "metadata": {
        "id": "24I33yVz1AA2"
      },
      "outputs": [],
      "source": [
        "# convert strings to int\n",
        "columns_to_convert = ['person_weight', 'salary', 'property_value', 'unusual_hours', 'monthly_rent',\n",
        "                      'age', 'disability_recode', 'sex', 'marital_status', 'english_abilities',\n",
        "                      'nativity', 'vehicles', 'military_service', 'educational_attainment', 'times_married',\n",
        "                      'worker_class', 'work_transportation', 'puma', 'state']\n",
        "\n",
        "for column in columns_to_convert:\n",
        "    df[column] = df[column].astype(int)"
      ]
    },
    {
      "cell_type": "code",
      "execution_count": 17,
      "metadata": {
        "colab": {
          "base_uri": "https://localhost:8080/"
        },
        "id": "JvOvg6RBBWWA",
        "outputId": "fe05365e-84c4-4eb6-8a71-bfde9b91a36c"
      },
      "outputs": [
        {
          "data": {
            "text/plain": [
              "person_weight             int32\n",
              "salary                    int32\n",
              "property_value            int32\n",
              "unusual_hours             int32\n",
              "monthly_rent              int32\n",
              "age                       int32\n",
              "disability_recode         int32\n",
              "sex                       int32\n",
              "marital_status            int32\n",
              "english_abilities         int32\n",
              "nativity                  int32\n",
              "vehicles                  int32\n",
              "military_service          int32\n",
              "educational_attainment    int32\n",
              "times_married             int32\n",
              "worker_class              int32\n",
              "work_transportation       int32\n",
              "puma                      int32\n",
              "state                     int32\n",
              "dtype: object"
            ]
          },
          "execution_count": 17,
          "metadata": {},
          "output_type": "execute_result"
        }
      ],
      "source": [
        "# data types are fixed!\n",
        "df.dtypes"
      ]
    },
    {
      "cell_type": "markdown",
      "metadata": {
        "id": "CweUiXke0K0K"
      },
      "source": [
        "\n",
        "*   Change marital status to binary attributes (married/not-married)\n"
      ]
    },
    {
      "cell_type": "code",
      "execution_count": 18,
      "metadata": {
        "colab": {
          "base_uri": "https://localhost:8080/"
        },
        "id": "REX9YNbiBXb8",
        "outputId": "6e81cbe1-7c3d-4447-f613-5ffcfce36072"
      },
      "outputs": [],
      "source": [
        "# changes marital status to binary attributes\n",
        "# not married = 0, married = 1\n",
        "df['marital_status'] = [0 if x != 1 else 1 for x in df['marital_status']]"
      ]
    },
    {
      "cell_type": "code",
      "execution_count": 19,
      "metadata": {
        "id": "rSZ3dwvXBZSZ"
      },
      "outputs": [],
      "source": [
        "# drop rows where age < 18\n",
        "df = df.loc[df['age'] >= 18]"
      ]
    },
    {
      "cell_type": "code",
      "execution_count": 20,
      "metadata": {
        "id": "sfvRVZySwLmz"
      },
      "outputs": [],
      "source": [
        "# alter rows where salary is 0\n",
        "# Adjusted query to round the average salary to the nearest whole number\n",
        "\n",
        "\n",
        "# avgsal_query = duckdb.query(\"SELECT ROUND(AVG(CAST(salary AS DOUBLE)), 0) AS avg FROM df WHERE salary <> '0'\").to_df()\n",
        "# avgsal_query['avg'] = avgsal_query['avg'].astype(int)\n",
        "# avg_salary = avgsal_query['avg'][0]\n",
        "\n",
        "\n",
        "\n",
        "def zeroToAvg(col):\n",
        "    avg_pd = duckdb.query(f\"SELECT ROUND(AVG(CAST({col} AS DOUBLE)), 0) AS avg FROM df WHERE {col} <> '0'\").to_df()\n",
        "    avg_salary = int(avg_pd['avg'][0])\n",
        "    df.loc[df[col] == 0, col] = avg_salary\n",
        "\n",
        "# zeroToAvg(\"unusual_hours\")"
      ]
    },
    {
      "cell_type": "code",
      "execution_count": 21,
      "metadata": {
        "id": "vrpm2b6zBa0X"
      },
      "outputs": [],
      "source": [
        "# sql zone\n",
        "# q = duckdb.query(\"SELECT * FROM df\").to_df()\n",
        "# q"
      ]
    },
    {
      "cell_type": "markdown",
      "metadata": {
        "id": "TtcmNsJD8wqN"
      },
      "source": [
        "##Exploratory Data Analysis\n",
        "Understand the data distribution and relationships between features and marital status.\n",
        "\n",
        "\n",
        "*   This will help us better understand which variables we need to keep/change and which variables have a stronger relationship with marital status\n",
        "\n",
        "\n",
        "\n",
        "\n"
      ]
    },
    {
      "cell_type": "code",
      "execution_count": 22,
      "metadata": {
        "colab": {
          "base_uri": "https://localhost:8080/"
        },
        "id": "iV9JC4_M-f1u",
        "outputId": "87d938f3-cd10-4cec-d13a-9604f5cd088d"
      },
      "outputs": [
        {
          "name": "stdout",
          "output_type": "stream",
          "text": [
            "       person_weight         salary  property_value  unusual_hours  \\\n",
            "count    2950.000000    2950.000000    2.950000e+03    2950.000000   \n",
            "mean      113.851864   56628.596610    3.648033e+05      39.047797   \n",
            "std        97.377718   86061.934454    6.998701e+05      10.840192   \n",
            "min         2.000000       0.000000    0.000000e+00       2.000000   \n",
            "25%        56.000000       0.000000    0.000000e+00      39.000000   \n",
            "50%        82.000000   30000.000000    0.000000e+00      40.000000   \n",
            "75%       137.000000   78000.000000    5.000000e+05      40.000000   \n",
            "max      1477.000000  537000.000000    3.840000e+06      99.000000   \n",
            "\n",
            "       monthly_rent          age  disability_recode          sex  \\\n",
            "count   2950.000000  2950.000000        2950.000000  2950.000000   \n",
            "mean     722.054237    43.059661           1.871864     1.504407   \n",
            "std      953.420312    18.492926           0.334297     0.500065   \n",
            "min        0.000000    18.000000           1.000000     1.000000   \n",
            "25%        0.000000    28.000000           2.000000     1.000000   \n",
            "50%        0.000000    38.000000           2.000000     2.000000   \n",
            "75%     1400.000000    57.000000           2.000000     2.000000   \n",
            "max     4200.000000    92.000000           2.000000     2.000000   \n",
            "\n",
            "       marital_status  english_abilities     nativity     vehicles  \\\n",
            "count     2950.000000        2950.000000  2950.000000  2950.000000   \n",
            "mean         0.392881           0.322373     1.150847     1.454576   \n",
            "std          0.488474           0.716616     0.357961     1.171814   \n",
            "min          0.000000           0.000000     1.000000    -1.000000   \n",
            "25%          0.000000           0.000000     1.000000     1.000000   \n",
            "50%          0.000000           0.000000     1.000000     2.000000   \n",
            "75%          1.000000           0.000000     1.000000     2.000000   \n",
            "max          1.000000           4.000000     2.000000     6.000000   \n",
            "\n",
            "       military_service  educational_attainment  times_married  worker_class  \\\n",
            "count       2950.000000             2950.000000    2950.000000   2950.000000   \n",
            "mean           3.915254               19.706102       0.670847      1.814576   \n",
            "std            0.402103                3.265477       0.712575      1.948086   \n",
            "min            1.000000                1.000000       0.000000      0.000000   \n",
            "25%            4.000000               19.000000       0.000000      1.000000   \n",
            "50%            4.000000               21.000000       1.000000      1.000000   \n",
            "75%            4.000000               21.000000       1.000000      2.000000   \n",
            "max            4.000000               24.000000       3.000000      9.000000   \n",
            "\n",
            "       work_transportation         puma   state  \n",
            "count          2950.000000  2950.000000  2950.0  \n",
            "mean              3.373559  5305.271864    48.0  \n",
            "std               4.616538     1.999319     0.0  \n",
            "min               0.000000  5302.000000    48.0  \n",
            "25%               0.000000  5302.000000    48.0  \n",
            "50%               1.000000  5306.000000    48.0  \n",
            "75%              10.000000  5307.000000    48.0  \n",
            "max              12.000000  5307.000000    48.0  \n"
          ]
        }
      ],
      "source": [
        "# Descriptive statistics\n",
        "print(df.describe())\n"
      ]
    },
    {
      "cell_type": "code",
      "execution_count": 23,
      "metadata": {
        "colab": {
          "base_uri": "https://localhost:8080/"
        },
        "id": "TlFfzxau-ntY",
        "outputId": "c348880a-f9f2-47ad-cd50-4a5d10e3f173"
      },
      "outputs": [
        {
          "name": "stdout",
          "output_type": "stream",
          "text": [
            "<class 'pandas.core.frame.DataFrame'>\n",
            "Index: 2950 entries, 1 to 3426\n",
            "Data columns (total 19 columns):\n",
            " #   Column                  Non-Null Count  Dtype\n",
            "---  ------                  --------------  -----\n",
            " 0   person_weight           2950 non-null   int32\n",
            " 1   salary                  2950 non-null   int32\n",
            " 2   property_value          2950 non-null   int32\n",
            " 3   unusual_hours           2950 non-null   int32\n",
            " 4   monthly_rent            2950 non-null   int32\n",
            " 5   age                     2950 non-null   int32\n",
            " 6   disability_recode       2950 non-null   int32\n",
            " 7   sex                     2950 non-null   int32\n",
            " 8   marital_status          2950 non-null   int64\n",
            " 9   english_abilities       2950 non-null   int32\n",
            " 10  nativity                2950 non-null   int32\n",
            " 11  vehicles                2950 non-null   int32\n",
            " 12  military_service        2950 non-null   int32\n",
            " 13  educational_attainment  2950 non-null   int32\n",
            " 14  times_married           2950 non-null   int32\n",
            " 15  worker_class            2950 non-null   int32\n",
            " 16  work_transportation     2950 non-null   int32\n",
            " 17  puma                    2950 non-null   int32\n",
            " 18  state                   2950 non-null   int32\n",
            "dtypes: int32(18), int64(1)\n",
            "memory usage: 253.5 KB\n",
            "None\n"
          ]
        }
      ],
      "source": [
        "# Overview of the dataset\n",
        "print(df.info())"
      ]
    },
    {
      "cell_type": "code",
      "execution_count": 24,
      "metadata": {
        "colab": {
          "base_uri": "https://localhost:8080/",
          "height": 472
        },
        "id": "KQFtwqH5-sTG",
        "outputId": "0d1d6011-82cd-485a-ad39-f08c3943d60a"
      },
      "outputs": [
        {
          "ename": "KeyboardInterrupt",
          "evalue": "",
          "output_type": "error",
          "traceback": [
            "\u001b[1;31m---------------------------------------------------------------------------\u001b[0m",
            "\u001b[1;31mKeyboardInterrupt\u001b[0m                         Traceback (most recent call last)",
            "Cell \u001b[1;32mIn[24], line 1\u001b[0m\n\u001b[1;32m----> 1\u001b[0m \u001b[38;5;28;01mimport\u001b[39;00m \u001b[38;5;21;01mmatplotlib\u001b[39;00m\u001b[38;5;21;01m.\u001b[39;00m\u001b[38;5;21;01mpyplot\u001b[39;00m \u001b[38;5;28;01mas\u001b[39;00m \u001b[38;5;21;01mplt\u001b[39;00m\n\u001b[0;32m      2\u001b[0m \u001b[38;5;28;01mimport\u001b[39;00m \u001b[38;5;21;01mseaborn\u001b[39;00m \u001b[38;5;28;01mas\u001b[39;00m \u001b[38;5;21;01msns\u001b[39;00m\n\u001b[0;32m      4\u001b[0m \u001b[38;5;66;03m# Visualize distribution of marital status\u001b[39;00m\n",
            "File \u001b[1;32m<frozen importlib._bootstrap>:1176\u001b[0m, in \u001b[0;36m_find_and_load\u001b[1;34m(name, import_)\u001b[0m\n",
            "File \u001b[1;32m<frozen importlib._bootstrap>:1147\u001b[0m, in \u001b[0;36m_find_and_load_unlocked\u001b[1;34m(name, import_)\u001b[0m\n",
            "File \u001b[1;32m<frozen importlib._bootstrap>:690\u001b[0m, in \u001b[0;36m_load_unlocked\u001b[1;34m(spec)\u001b[0m\n",
            "File \u001b[1;32m<frozen importlib._bootstrap_external>:936\u001b[0m, in \u001b[0;36mexec_module\u001b[1;34m(self, module)\u001b[0m\n",
            "File \u001b[1;32m<frozen importlib._bootstrap_external>:1032\u001b[0m, in \u001b[0;36mget_code\u001b[1;34m(self, fullname)\u001b[0m\n",
            "File \u001b[1;32m<frozen importlib._bootstrap_external>:1130\u001b[0m, in \u001b[0;36mget_data\u001b[1;34m(self, path)\u001b[0m\n",
            "\u001b[1;31mKeyboardInterrupt\u001b[0m: "
          ]
        }
      ],
      "source": [
        "import matplotlib.pyplot as plt\n",
        "import seaborn as sns\n",
        "\n",
        "# Visualize distribution of marital status\n",
        "sns.countplot(x='marital_status', data=df)\n",
        "plt.title('Distribution of Marital Status')\n",
        "plt.show()"
      ]
    },
    {
      "cell_type": "code",
      "execution_count": null,
      "metadata": {
        "colab": {
          "base_uri": "https://localhost:8080/",
          "height": 472
        },
        "id": "0aJDmzs3_dAw",
        "outputId": "9d4e8e14-e21d-49a7-abc6-57ffaed49022"
      },
      "outputs": [
        {
          "data": {
            "image/png": "[encoded data removed]",
            "text/plain": [
              "<Figure size 640x480 with 1 Axes>"
            ]
          },
          "metadata": {},
          "output_type": "display_data"
        }
      ],
      "source": [
        "# Example with Worker Class\n",
        "sns.countplot(x='worker_class', hue='marital_status', data=df)\n",
        "plt.title('Marital Status by Worker Class')\n",
        "plt.xticks()\n",
        "plt.show()"
      ]
    },
    {
      "cell_type": "code",
      "execution_count": null,
      "metadata": {
        "colab": {
          "base_uri": "https://localhost:8080/",
          "height": 472
        },
        "id": "_kcXbXG1-0jm",
        "outputId": "ceb545d1-d872-4c17-fc57-23a5bbb69a0e"
      },
      "outputs": [
        {
          "data": {
            "image/png": "[encoded data removed]",
            "text/plain": [
              "<Figure size 640x480 with 1 Axes>"
            ]
          },
          "metadata": {},
          "output_type": "display_data"
        }
      ],
      "source": [
        "# Get unique values of educational_attainment and sort them in numerical value 0-\n",
        "educational_levels = sorted(df['educational_attainment'].unique())\n",
        "\n",
        "# Plot countplot with sorted educational levels\n",
        "sns.countplot(x='educational_attainment', hue='marital_status', data=df, order=educational_levels)\n",
        "plt.title('Marital Status by Educational Attainment')\n",
        "plt.show()"
      ]
    },
    {
      "cell_type": "code",
      "execution_count": null,
      "metadata": {
        "colab": {
          "base_uri": "https://localhost:8080/"
        },
        "id": "SLf6AQgLFMsy",
        "outputId": "831eddf3-283b-4251-ce13-d3c1adb61c98"
      },
      "outputs": [
        {
          "name": "stderr",
          "output_type": "stream",
          "text": [
            "/usr/local/lib/python3.10/dist-packages/scipy/stats/_stats_py.py:4781: ConstantInputWarning: An input array is constant; the correlation coefficient is not defined.\n",
            "  warnings.warn(stats.ConstantInputWarning(msg))\n"
          ]
        }
      ],
      "source": [
        "from scipy.stats import pearsonr\n",
        "\n",
        "filtered_df = df[df[\"marital_status\"] == 0]\n",
        "p = pearsonr(filtered_df[\"age\"], filtered_df[\"marital_status\"])"
      ]
    },
    {
      "cell_type": "code",
      "execution_count": null,
      "metadata": {
        "id": "krhKNvv3CF1y"
      },
      "outputs": [],
      "source": [
        "!pip install dataprep\n",
        "from dataprep.eda import create_report\n",
        "\n",
        "report = create_report(df)\n",
        "report.show()"
      ]
    },
    {
      "cell_type": "markdown",
      "metadata": {
        "id": "F5HJ8FdE3uHB"
      },
      "source": [
        "# Split data into training and testing sets:"
      ]
    },
    {
      "cell_type": "code",
      "execution_count": null,
      "metadata": {
        "id": "BOcmHiEW38I-"
      },
      "outputs": [],
      "source": [
        "from sklearn.model_selection import train_test_split\n",
        "\n",
        "# Identify the target variable\n",
        "target_column = 'marital_status'\n",
        "\n",
        "# Create y variable (target variable)\n",
        "marital_status_set = df[target_column]\n",
        "\n",
        "# Create X variable (features) by removing the target variable column\n",
        "X = df.drop(columns=[target_column])\n",
        "\n",
        "# Features (X) and target variable (y) are ready for splitting\n",
        "# Split the data into training and testing sets\n",
        "from sklearn.model_selection import train_test_split\n",
        "\n",
        "X_train, X_test, y_train, y_test = train_test_split(X, y, test_size=0.2, random_state=42)\n"
      ]
    },
    {
      "cell_type": "markdown",
      "metadata": {
        "id": "xPNCC46lrBNU"
      },
      "source": [
        "EDA for Testing Fairness\n",
        "- use scikit-learn's classification_report function"
      ]
    }
  ],
  "metadata": {
    "colab": {
      "provenance": []
    },
    "kernelspec": {
      "display_name": "Python 3",
      "name": "python3"
    },
    "language_info": {
      "codemirror_mode": {
        "name": "ipython",
        "version": 3
      },
      "file_extension": ".py",
      "mimetype": "text/x-python",
      "name": "python",
      "nbconvert_exporter": "python",
      "pygments_lexer": "ipython3",
      "version": "3.11.4"
    }
  },
  "nbformat": 4,
  "nbformat_minor": 0
}
